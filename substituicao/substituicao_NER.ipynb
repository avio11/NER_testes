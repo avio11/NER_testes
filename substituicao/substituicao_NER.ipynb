{
 "cells": [
  {
   "cell_type": "code",
   "execution_count": 1,
   "metadata": {},
   "outputs": [],
   "source": [
    "import pandas as pd\n",
    "import sklearn_crfsuite\n",
    "from sklearn_crfsuite import metrics\n",
    "import joblib\n",
    "import math"
   ]
  },
  {
   "cell_type": "code",
   "execution_count": 2,
   "metadata": {},
   "outputs": [
    {
     "name": "stdout",
     "output_type": "stream",
     "text": [
      "180\n"
     ]
    }
   ],
   "source": [
    "df = pd.read_csv('data/data_substituicao/labeled.csv')\n",
    "print(len(df))\n",
    "# train = df[:math.floor(0.7*len(df))]\n",
    "# test  = df[math.floor(0.7*len(df)):]\n",
    "# print(len(df), len(train), len(test))\n",
    "# df = []"
   ]
  },
  {
   "cell_type": "code",
   "execution_count": 3,
   "metadata": {},
   "outputs": [
    {
     "data": {
      "text/plain": [
       "(180, 144, 144, 36, 36)"
      ]
     },
     "execution_count": 3,
     "metadata": {},
     "output_type": "execute_result"
    }
   ],
   "source": [
    "def extract_features(sentence):\n",
    "  sentence_features = []\n",
    "  for j in range(len(sentence)):\n",
    "    word_feat = {\n",
    "            'word': sentence[j].lower(),\n",
    "            'capital_letter': sentence[j][0].isupper(),\n",
    "            'all_capital': sentence[j].isupper(),\n",
    "            'isdigit': sentence[j].isdigit(),\n",
    "            'word_before': sentence[j].lower() if j==0 else sentence[j-1].lower(),\n",
    "            'word_after:': sentence[j].lower() if j+1>=len(sentence) else sentence[j+1].lower(),\n",
    "            'BOS': j==0,\n",
    "            'EOS': j==len(sentence)-1\n",
    "    }\n",
    "    sentence_features.append(word_feat)\n",
    "  return sentence_features\n",
    "\n",
    "def separate_cols(arq):\n",
    "    x = []\n",
    "    y = []\n",
    "    for i in range(len(arq)):\n",
    "        x.append(extract_features(arq['text'][i].split()))\n",
    "        y.append(arq['labels'][i].split())\n",
    "    return x, y\n",
    "\n",
    "x, y = separate_cols(df)\n",
    "train_x = x[:math.floor(0.8*len(df))]\n",
    "train_y = y[:math.floor(0.8*len(df))]\n",
    "test_x = x[math.floor(0.8*len(df)):]\n",
    "test_y = y[math.floor(0.8*len(df)):]\n",
    "\n",
    "len(df), len(train_x), len(train_y), len(test_x), len(test_y)"
   ]
  },
  {
   "cell_type": "code",
   "execution_count": 98,
   "metadata": {},
   "outputs": [],
   "source": [
    "model = sklearn_crfsuite.CRF(\n",
    "    algorithm = 'l2sgd', \n",
    "    c2=0.4,\n",
    "    max_iterations=100, \n",
    "    all_possible_transitions=True,\n",
    "    verbose=False\n",
    ")\n",
    "\n",
    "model.fit(train_x, train_y)\n",
    "y_pred = model.predict(test_x)"
   ]
  },
  {
   "cell_type": "code",
   "execution_count": 99,
   "metadata": {},
   "outputs": [
    {
     "name": "stdout",
     "output_type": "stream",
     "text": [
      "0.732224905292508\n"
     ]
    }
   ],
   "source": [
    "labels = list(model.classes_)\n",
    "labels.remove('O')\n",
    "\n",
    "f1 = metrics.flat_f1_score(test_y, y_pred, \n",
    "                      average='weighted', labels=labels)\n",
    "print(f1)"
   ]
  },
  {
   "cell_type": "code",
   "execution_count": 100,
   "metadata": {},
   "outputs": [
    {
     "name": "stdout",
     "output_type": "stream",
     "text": [
      "                                             precision    recall  f1-score   support\n",
      "\n",
      "                 B-nome_servidor_substituto      1.000     0.971     0.986        35\n",
      "                 I-nome_servidor_substituto      0.938     0.972     0.955       109\n",
      "                     B-matricula_substituto      0.493     0.972     0.654        36\n",
      "                     I-matricula_substituto      0.480     0.973     0.643        37\n",
      "                B-nome_servidor_substituido      0.974     1.000     0.987        37\n",
      "                I-nome_servidor_substituido      0.962     1.000     0.980       100\n",
      "                    B-matricula_substituido      0.000     0.000     0.000        36\n",
      "                    I-matricula_substituido      0.000     0.000     0.000        39\n",
      "  B-simbolo_do_cargo_objeto_da_substituicao      0.717     1.000     0.835        33\n",
      "  I-simbolo_do_cargo_objeto_da_substituicao      0.708     0.944     0.810        36\n",
      "                       B-inicio_da_vigencia      0.868     1.000     0.930        33\n",
      "                       I-inicio_da_vigencia      0.822     1.000     0.902       244\n",
      "                          B-matricula_siape      0.000     0.000     0.000         0\n",
      "                          I-matricula_siape      0.000     0.000     0.000         0\n",
      "B-cargo_comissionado_objeto_da_substituicao      0.000     0.000     0.000         0\n",
      "I-cargo_comissionado_objeto_da_substituicao      0.000     0.000     0.000         0\n",
      "           B-simbolo_do_cargo_do_substituto      0.000     0.000     0.000        13\n",
      "           I-simbolo_do_cargo_do_substituto      0.000     0.000     0.000        14\n",
      "                                    B-orgao      0.450     0.514     0.480        35\n",
      "                                    I-orgao      0.448     0.754     0.562       187\n",
      "\n",
      "                                  micro avg      0.691     0.831     0.755      1024\n",
      "                                  macro avg      0.443     0.555     0.486      1024\n",
      "                               weighted avg      0.667     0.831     0.732      1024\n",
      "\n"
     ]
    }
   ],
   "source": [
    "print(metrics.flat_classification_report(\n",
    "    test_y, y_pred, labels=labels, digits=3\n",
    "))"
   ]
  },
  {
   "cell_type": "code",
   "execution_count": 101,
   "metadata": {},
   "outputs": [
    {
     "name": "stdout",
     "output_type": "stream",
     "text": [
      "                                           precision    recall  f1-score   support\n",
      "\n",
      "               B-nome_servidor_substituto      1.000     0.971     0.986        35\n",
      "               I-nome_servidor_substituto      0.938     0.972     0.955       109\n",
      "                   B-matricula_substituto      0.493     0.972     0.654        36\n",
      "                   I-matricula_substituto      0.480     0.973     0.643        37\n",
      "              B-nome_servidor_substituido      0.974     1.000     0.987        37\n",
      "              I-nome_servidor_substituido      0.962     1.000     0.980       100\n",
      "                  B-matricula_substituido      0.000     0.000     0.000        36\n",
      "                  I-matricula_substituido      0.000     0.000     0.000        39\n",
      "B-simbolo_do_cargo_objeto_da_substituicao      0.717     1.000     0.835        33\n",
      "I-simbolo_do_cargo_objeto_da_substituicao      0.708     0.944     0.810        36\n",
      "                     B-inicio_da_vigencia      0.868     1.000     0.930        33\n",
      "                     I-inicio_da_vigencia      0.822     1.000     0.902       244\n",
      "         B-simbolo_do_cargo_do_substituto      0.000     0.000     0.000        13\n",
      "         I-simbolo_do_cargo_do_substituto      0.000     0.000     0.000        14\n",
      "                                  B-orgao      0.450     0.514     0.480        35\n",
      "                                  I-orgao      0.448     0.754     0.562       187\n",
      "\n",
      "                                micro avg      0.698     0.831     0.759      1024\n",
      "                                macro avg      0.554     0.694     0.608      1024\n",
      "                             weighted avg      0.667     0.831     0.732      1024\n",
      "\n"
     ]
    }
   ],
   "source": [
    "labels.remove('B-matricula_siape')\n",
    "labels.remove('I-matricula_siape')\n",
    "labels.remove('B-cargo_comissionado_objeto_da_substituicao')\n",
    "labels.remove('I-cargo_comissionado_objeto_da_substituicao')\n",
    "print(metrics.flat_classification_report(\n",
    "    test_y, y_pred, labels=labels, digits=3\n",
    "))"
   ]
  },
  {
   "cell_type": "code",
   "execution_count": 97,
   "metadata": {},
   "outputs": [
    {
     "data": {
      "text/plain": [
       "['substituicao_ner.pkl']"
      ]
     },
     "execution_count": 97,
     "metadata": {},
     "output_type": "execute_result"
    }
   ],
   "source": [
    "# Save trained model\n",
    "joblib.dump(model, \"substituicao_ner.pkl\")"
   ]
  },
  {
   "cell_type": "code",
   "execution_count": null,
   "metadata": {},
   "outputs": [],
   "source": []
  }
 ],
 "metadata": {
  "kernelspec": {
   "display_name": "Python 3",
   "language": "python",
   "name": "python3"
  },
  "language_info": {
   "codemirror_mode": {
    "name": "ipython",
    "version": 3
   },
   "file_extension": ".py",
   "mimetype": "text/x-python",
   "name": "python",
   "nbconvert_exporter": "python",
   "pygments_lexer": "ipython3",
   "version": "3.8.3"
  }
 },
 "nbformat": 4,
 "nbformat_minor": 4
}
