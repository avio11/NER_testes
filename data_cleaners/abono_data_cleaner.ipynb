{
 "cells": [
  {
   "cell_type": "code",
   "execution_count": 1,
   "metadata": {},
   "outputs": [],
   "source": [
    "import pandas as pd\n",
    "\n",
    "df = pd.read_csv(\"abono.csv\")"
   ]
  },
  {
   "cell_type": "code",
   "execution_count": 2,
   "metadata": {},
   "outputs": [
    {
     "data": {
      "text/html": [
       "<div>\n",
       "<style scoped>\n",
       "    .dataframe tbody tr th:only-of-type {\n",
       "        vertical-align: middle;\n",
       "    }\n",
       "\n",
       "    .dataframe tbody tr th {\n",
       "        vertical-align: top;\n",
       "    }\n",
       "\n",
       "    .dataframe thead th {\n",
       "        text-align: right;\n",
       "    }\n",
       "</style>\n",
       "<table border=\"1\" class=\"dataframe\">\n",
       "  <thead>\n",
       "    <tr style=\"text-align: right;\">\n",
       "      <th></th>\n",
       "      <th>Unnamed: 0</th>\n",
       "      <th>Ano</th>\n",
       "      <th>Mes</th>\n",
       "      <th>Publicacao</th>\n",
       "      <th>Unnamed: 0.1</th>\n",
       "      <th>Tipo do Ato</th>\n",
       "      <th>Nome do Servidor</th>\n",
       "      <th>Matrícula</th>\n",
       "      <th>Cargo Efetivo</th>\n",
       "      <th>Classe</th>\n",
       "      <th>Padrão</th>\n",
       "      <th>Quadro pessoal permanente ou Suplementar</th>\n",
       "      <th>Fundamento Legal do abono de permanência</th>\n",
       "      <th>Órgão</th>\n",
       "      <th>Processo GDF/SEI</th>\n",
       "      <th>Vigencia</th>\n",
       "      <th>Matricula SIAPE</th>\n",
       "      <th>text</th>\n",
       "    </tr>\n",
       "  </thead>\n",
       "  <tbody>\n",
       "    <tr>\n",
       "      <th>0</th>\n",
       "      <td>0</td>\n",
       "      <td>2013</td>\n",
       "      <td>7</td>\n",
       "      <td>DODF Nº 145 16-07-2013</td>\n",
       "      <td>0</td>\n",
       "      <td>Abono de Permanência</td>\n",
       "      <td>NaN</td>\n",
       "      <td>42.825-6</td>\n",
       "      <td>NaN</td>\n",
       "      <td>NaN</td>\n",
       "      <td>NaN</td>\n",
       "      <td>NaN</td>\n",
       "      <td>NaN</td>\n",
       "      <td>NaN</td>\n",
       "      <td>NaN</td>\n",
       "      <td>NaN</td>\n",
       "      <td>NaN</td>\n",
       "      <td>Abono de Permanencia aoservidor HAROLDO DA SIL...</td>\n",
       "    </tr>\n",
       "    <tr>\n",
       "      <th>1</th>\n",
       "      <td>1</td>\n",
       "      <td>2013</td>\n",
       "      <td>7</td>\n",
       "      <td>DODF Nº 154 29-07-2013</td>\n",
       "      <td>0</td>\n",
       "      <td>Abono de Permanência</td>\n",
       "      <td>NaN</td>\n",
       "      <td>NaN</td>\n",
       "      <td>NaN</td>\n",
       "      <td>NaN</td>\n",
       "      <td>NaN</td>\n",
       "      <td>NaN</td>\n",
       "      <td>NaN</td>\n",
       "      <td>NaN</td>\n",
       "      <td>NaN</td>\n",
       "      <td>NaN</td>\n",
       "      <td>NaN</td>\n",
       "      <td>abono de permanencia e,posteriormente, convert...</td>\n",
       "    </tr>\n",
       "    <tr>\n",
       "      <th>2</th>\n",
       "      <td>2</td>\n",
       "      <td>2013</td>\n",
       "      <td>7</td>\n",
       "      <td>DODF Nº 143 12-07-2013</td>\n",
       "      <td>0</td>\n",
       "      <td>Abono de Permanência</td>\n",
       "      <td>Escrivao de Policia</td>\n",
       "      <td>SIGRH</td>\n",
       "      <td>NaN</td>\n",
       "      <td>NaN</td>\n",
       "      <td>NaN</td>\n",
       "      <td>NaN</td>\n",
       "      <td>artigo 1o</td>\n",
       "      <td>NaN</td>\n",
       "      <td>NaN</td>\n",
       "      <td>NaN</td>\n",
       "      <td>NaN</td>\n",
       "      <td>Abono de Permanencia a:FRANCISCO \\nAURELIO DIA...</td>\n",
       "    </tr>\n",
       "    <tr>\n",
       "      <th>3</th>\n",
       "      <td>3</td>\n",
       "      <td>2013</td>\n",
       "      <td>7</td>\n",
       "      <td>DODF Nº 152 25-07-2013</td>\n",
       "      <td>0</td>\n",
       "      <td>Abono de Permanência</td>\n",
       "      <td>\\nVALDIVINO RODRIGUES</td>\n",
       "      <td>102250-4</td>\n",
       "      <td>Natureza \\nEspecial</td>\n",
       "      <td>NaN</td>\n",
       "      <td>NaN</td>\n",
       "      <td>NaN</td>\n",
       "      <td>NaN</td>\n",
       "      <td>NaN</td>\n",
       "      <td>NaN</td>\n",
       "      <td>12 de maio \\nde 2012</td>\n",
       "      <td>NaN</td>\n",
       "      <td>Abono de Permanencia aFRANCISCO \\nVALDIVINO RO...</td>\n",
       "    </tr>\n",
       "    <tr>\n",
       "      <th>4</th>\n",
       "      <td>4</td>\n",
       "      <td>2013</td>\n",
       "      <td>7</td>\n",
       "      <td>DODF Nº 141 10-07-2013</td>\n",
       "      <td>0</td>\n",
       "      <td>Abono de Permanência</td>\n",
       "      <td>ANTONIO CARLOS DIAS ALMEIDA</td>\n",
       "      <td>19.913-3</td>\n",
       "      <td>NaN</td>\n",
       "      <td>Especial</td>\n",
       "      <td>V</td>\n",
       "      <td>Quadro de Pessoal do Distrito Federal</td>\n",
       "      <td>NaN</td>\n",
       "      <td>NaN</td>\n",
       "      <td>NaN</td>\n",
       "      <td>NaN</td>\n",
       "      <td>NaN</td>\n",
       "      <td>Abono de Permanencia a\\nANTONIO CARLOS DIAS AL...</td>\n",
       "    </tr>\n",
       "  </tbody>\n",
       "</table>\n",
       "</div>"
      ],
      "text/plain": [
       "   Unnamed: 0   Ano  Mes              Publicacao  Unnamed: 0.1  \\\n",
       "0           0  2013    7  DODF Nº 145 16-07-2013             0   \n",
       "1           1  2013    7  DODF Nº 154 29-07-2013             0   \n",
       "2           2  2013    7  DODF Nº 143 12-07-2013             0   \n",
       "3           3  2013    7  DODF Nº 152 25-07-2013             0   \n",
       "4           4  2013    7  DODF Nº 141 10-07-2013             0   \n",
       "\n",
       "            Tipo do Ato             Nome do Servidor Matrícula  \\\n",
       "0  Abono de Permanência                          NaN  42.825-6   \n",
       "1  Abono de Permanência                          NaN       NaN   \n",
       "2  Abono de Permanência          Escrivao de Policia     SIGRH   \n",
       "3  Abono de Permanência        \\nVALDIVINO RODRIGUES  102250-4   \n",
       "4  Abono de Permanência  ANTONIO CARLOS DIAS ALMEIDA  19.913-3   \n",
       "\n",
       "         Cargo Efetivo    Classe Padrão  \\\n",
       "0                  NaN       NaN    NaN   \n",
       "1                  NaN       NaN    NaN   \n",
       "2                  NaN       NaN    NaN   \n",
       "3  Natureza \\nEspecial       NaN    NaN   \n",
       "4                  NaN  Especial      V   \n",
       "\n",
       "  Quadro pessoal permanente ou Suplementar  \\\n",
       "0                                      NaN   \n",
       "1                                      NaN   \n",
       "2                                      NaN   \n",
       "3                                      NaN   \n",
       "4    Quadro de Pessoal do Distrito Federal   \n",
       "\n",
       "  Fundamento Legal do abono de permanência Órgão Processo GDF/SEI  \\\n",
       "0                                      NaN   NaN              NaN   \n",
       "1                                      NaN   NaN              NaN   \n",
       "2                                artigo 1o   NaN              NaN   \n",
       "3                                      NaN   NaN              NaN   \n",
       "4                                      NaN   NaN              NaN   \n",
       "\n",
       "               Vigencia Matricula SIAPE  \\\n",
       "0                   NaN             NaN   \n",
       "1                   NaN             NaN   \n",
       "2                   NaN             NaN   \n",
       "3  12 de maio \\nde 2012             NaN   \n",
       "4                   NaN             NaN   \n",
       "\n",
       "                                                text  \n",
       "0  Abono de Permanencia aoservidor HAROLDO DA SIL...  \n",
       "1  abono de permanencia e,posteriormente, convert...  \n",
       "2  Abono de Permanencia a:FRANCISCO \\nAURELIO DIA...  \n",
       "3  Abono de Permanencia aFRANCISCO \\nVALDIVINO RO...  \n",
       "4  Abono de Permanencia a\\nANTONIO CARLOS DIAS AL...  "
      ]
     },
     "execution_count": 2,
     "metadata": {},
     "output_type": "execute_result"
    }
   ],
   "source": [
    "df.head()"
   ]
  },
  {
   "cell_type": "code",
   "execution_count": 3,
   "metadata": {},
   "outputs": [
    {
     "data": {
      "text/plain": [
       "Index(['Unnamed: 0', 'Ano', 'Mes', 'Publicacao', 'Unnamed: 0.1', 'Tipo do Ato',\n",
       "       'Nome do Servidor', 'Matrícula', 'Cargo Efetivo', 'Classe', 'Padrão',\n",
       "       'Quadro pessoal permanente ou Suplementar',\n",
       "       'Fundamento Legal do abono de permanência', 'Órgão', 'Processo GDF/SEI',\n",
       "       'Vigencia', 'Matricula SIAPE', 'text'],\n",
       "      dtype='object')"
      ]
     },
     "execution_count": 3,
     "metadata": {},
     "output_type": "execute_result"
    }
   ],
   "source": [
    "df.columns"
   ]
  },
  {
   "cell_type": "code",
   "execution_count": 4,
   "metadata": {},
   "outputs": [
    {
     "data": {
      "text/plain": [
       "Index(['Nome do Servidor', 'Matrícula', 'Cargo Efetivo', 'Classe', 'Padrão',\n",
       "       'Quadro pessoal permanente ou Suplementar',\n",
       "       'Fundamento Legal do abono de permanência', 'Órgão', 'Processo GDF/SEI',\n",
       "       'Vigencia', 'Matricula SIAPE', 'text'],\n",
       "      dtype='object')"
      ]
     },
     "execution_count": 4,
     "metadata": {},
     "output_type": "execute_result"
    }
   ],
   "source": [
    "df = df.drop(['Unnamed: 0', 'Ano', 'Mes', 'Publicacao', 'Unnamed: 0.1', 'Tipo do Ato'], axis=1)\n",
    "df.columns"
   ]
  },
  {
   "cell_type": "code",
   "execution_count": 6,
   "metadata": {},
   "outputs": [
    {
     "data": {
      "text/plain": [
       "Index(['Nome do Servidor', 'matricula', 'Cargo Efetivo', 'Classe', 'padrao',\n",
       "       'Quadro pessoal permanente ou Suplementar',\n",
       "       'fundamento legal do abono de permanencia', 'orgao', 'Processo GDF/SEI',\n",
       "       'Vigencia', 'Matricula SIAPE', 'text'],\n",
       "      dtype='object')"
      ]
     },
     "execution_count": 6,
     "metadata": {},
     "output_type": "execute_result"
    }
   ],
   "source": [
    "df = df.rename(columns={\"Matrícula\":\"matricula\", \"Padrão\":\"padrao\", \"Fundamento Legal do abono de permanência\":\"fundamento legal do abono de permanencia\", \"Órgão\":\"orgao\"})\n",
    "df.columns"
   ]
  },
  {
   "cell_type": "code",
   "execution_count": 7,
   "metadata": {},
   "outputs": [],
   "source": [
    "def data_setup(df):\n",
    "    for row in range(len(df)):\n",
    "        for col in df.columns:\n",
    "            aux = df.iloc[row][col]\n",
    "            if pd.notna(aux) and aux:\n",
    "                if type(aux)!=str:\n",
    "                    aux = str(aux)\n",
    "                if col == 'text':\n",
    "                    aux = aux.replace(',', ' , ').replace(';', ' ; ').replace(':', ' : ').replace('. ', ' . ').replace('\\n', ' ')\n",
    "                    if aux[len(aux)-2:] == '. ':\n",
    "                        aux = aux[:len(aux)-2] + \" .\"\n",
    "                else:\n",
    "                    if aux[len(aux)-1] == '.':\n",
    "                        aux = aux[:len(aux)-1]\n",
    "                    aux = aux.replace(',', ' , ').replace(':', ' : ').replace(';', ' ; ').replace('. ', ' . ').replace('\\n', ' ')\n",
    "\n",
    "                df.iloc[row][col] = aux\n",
    "    return df\n",
    "\n",
    "def preprocess(df):\n",
    "    x = []\n",
    "    y = []\n",
    "    for row in range(len(df)):\n",
    "        temp_x = df.iloc[row]['text'].split()\n",
    "        temp_y = ['O' for i in range(len(temp_x))]\n",
    "        for col in df.columns:\n",
    "            if col == 'text':\n",
    "                continue\n",
    "            if pd.notna(df.iloc[row][col]):\n",
    "                feature = df.iloc[row][col].split()\n",
    "                if not feature:\n",
    "                    continue\n",
    "                for i in range(len(temp_x)-len(feature)+1):\n",
    "                    if feature == temp_x[i:i+len(feature)]:\n",
    "                        if i >= len(temp_y):\n",
    "                            print(\"row:\", row)\n",
    "                        temp_y[i] = \"B-\"+col\n",
    "                        for j in range(1, len(feature)):\n",
    "                            temp_y[i+j] = \"I-\"+col\n",
    "        x.append(temp_x)\n",
    "        y.append(temp_y)\n",
    "    return x, y\n",
    "\n",
    "# mini_df = df[:1]\n",
    "dataframer = data_setup(df)\n",
    "data_x, data_y = preprocess(dataframer)"
   ]
  },
  {
   "cell_type": "code",
   "execution_count": 8,
   "metadata": {},
   "outputs": [],
   "source": [
    "for i in range(len(data_x)):\n",
    "    for j in range(len(data_x[i])):\n",
    "        for k in range(len(data_x[i][j])):\n",
    "            if data_x[i][j][k] == u'\\xed':\n",
    "                print(i, j, k)"
   ]
  },
  {
   "cell_type": "code",
   "execution_count": 9,
   "metadata": {},
   "outputs": [
    {
     "name": "stderr",
     "output_type": "stream",
     "text": [
      "/home/zeca/anaconda3/envs/ner/lib/python3.7/site-packages/sklearn/base.py:213: FutureWarning: From version 0.24, get_params will raise an AttributeError if a parameter cannot be retrieved as an instance attribute. Previously it would return None.\n",
      "  FutureWarning)\n"
     ]
    },
    {
     "data": {
      "text/plain": [
       "CRF(algorithm='l2sgd', all_possible_transitions=True, c2=1, keep_tempfiles=None,\n",
       "    max_iterations=100)"
      ]
     },
     "execution_count": 9,
     "metadata": {},
     "output_type": "execute_result"
    }
   ],
   "source": [
    "import sklearn_crfsuite\n",
    "from sklearn_crfsuite import metrics\n",
    "\n",
    "crf = sklearn_crfsuite.CRF(\n",
    "    algorithm = 'l2sgd',\n",
    "    c2=1,\n",
    "    max_iterations=100,\n",
    "    all_possible_transitions=True\n",
    ")\n",
    "\n",
    "crf.fit(data_x, data_y)"
   ]
  },
  {
   "cell_type": "code",
   "execution_count": 10,
   "metadata": {},
   "outputs": [
    {
     "data": {
      "text/plain": [
       "['ner_abono.pkl']"
      ]
     },
     "execution_count": 10,
     "metadata": {},
     "output_type": "execute_result"
    }
   ],
   "source": [
    "import joblib\n",
    "joblib.dump(crf, \"ner_abono.pkl\")"
   ]
  },
  {
   "cell_type": "code",
   "execution_count": null,
   "metadata": {},
   "outputs": [],
   "source": []
  }
 ],
 "metadata": {
  "kernelspec": {
   "display_name": "Python 3",
   "language": "python",
   "name": "python3"
  },
  "language_info": {
   "codemirror_mode": {
    "name": "ipython",
    "version": 3
   },
   "file_extension": ".py",
   "mimetype": "text/x-python",
   "name": "python",
   "nbconvert_exporter": "python",
   "pygments_lexer": "ipython3",
   "version": "3.7.7"
  }
 },
 "nbformat": 4,
 "nbformat_minor": 4
}
